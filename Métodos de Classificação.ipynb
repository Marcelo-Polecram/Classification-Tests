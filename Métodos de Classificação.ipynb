{
 "cells": [
  {
   "cell_type": "markdown",
   "id": "db91f1d1",
   "metadata": {},
   "source": [
    "# Métodos de Classificação em Mãos de Poker"
   ]
  },
  {
   "cell_type": "markdown",
   "id": "343e91ae",
   "metadata": {},
   "source": [
    "Dataset Usado: https://archive.ics.uci.edu/dataset/158/poker+hand\n",
    "\n",
    "Os métodos à serem testados são: K Nears Neighbors (KNN), Logistic Regression, Linear Discriminant Analysis (LDA), and Quadratic Discriminant Analysis (QDA)\n",
    "\n"
   ]
  },
  {
   "cell_type": "code",
   "execution_count": 1,
   "id": "60b7079b",
   "metadata": {},
   "outputs": [],
   "source": [
    "import pandas as pd\n",
    "import numpy as np\n",
    "from sklearn import neighbors\n",
    "from sklearn.metrics import confusion_matrix, classification_report, precision_score\n",
    "import statsmodels.api as sm\n",
    "import statsmodels.formula.api as smf\n",
    "from sklearn.linear_model import LogisticRegression\n",
    "from sklearn.discriminant_analysis import LinearDiscriminantAnalysis, QuadraticDiscriminantAnalysis\n"
   ]
  },
  {
   "cell_type": "markdown",
   "id": "9794eedc",
   "metadata": {},
   "source": [
    "Dataset é composto dos Naipes e Valor correspondentes às 5 cartas de uma mão, sendo a coluna Poker Hand a classificação da mão:\n",
    "      \n",
    "      0: Nothing in hand; not a recognized poker hand  \n",
    "      1: One pair; one pair of equal ranks within five cards\n",
    "      2: Two pairs; two pairs of equal ranks within five cards\n",
    "      3: Three of a kind; three equal ranks within five cards\n",
    "      4: Straight; five cards, sequentially ranked with no gaps\n",
    "      5: Flush; five cards with the same suit\n",
    "      6: Full house; pair + different rank three of a kind\n",
    "      7: Four of a kind; four equal ranks within five cards\n",
    "      8: Straight flush; straight + flush\n",
    "      9: Royal flush; {Ace, King, Queen, Jack, Ten} + flush"
   ]
  },
  {
   "cell_type": "code",
   "execution_count": 2,
   "id": "17c45382",
   "metadata": {},
   "outputs": [],
   "source": [
    "nome_col = ['Naipe 1','Valor 1','Naipe 2','Valor 2','Naipe 3','Valor 3','Naipe 4','Valor 4','Naipe 5','Valor 5','Poker Hand']"
   ]
  },
  {
   "cell_type": "markdown",
   "id": "f52331e4",
   "metadata": {},
   "source": [
    "Dados já estão divididos em Treino e Test, sendo fornecidos 25010 linhas para treino e 1000000 para teste"
   ]
  },
  {
   "cell_type": "code",
   "execution_count": 3,
   "id": "6366d3e9",
   "metadata": {
    "scrolled": true
   },
   "outputs": [
    {
     "data": {
      "text/html": [
       "<div>\n",
       "<style scoped>\n",
       "    .dataframe tbody tr th:only-of-type {\n",
       "        vertical-align: middle;\n",
       "    }\n",
       "\n",
       "    .dataframe tbody tr th {\n",
       "        vertical-align: top;\n",
       "    }\n",
       "\n",
       "    .dataframe thead th {\n",
       "        text-align: right;\n",
       "    }\n",
       "</style>\n",
       "<table border=\"1\" class=\"dataframe\">\n",
       "  <thead>\n",
       "    <tr style=\"text-align: right;\">\n",
       "      <th></th>\n",
       "      <th>Naipe 1</th>\n",
       "      <th>Valor 1</th>\n",
       "      <th>Naipe 2</th>\n",
       "      <th>Valor 2</th>\n",
       "      <th>Naipe 3</th>\n",
       "      <th>Valor 3</th>\n",
       "      <th>Naipe 4</th>\n",
       "      <th>Valor 4</th>\n",
       "      <th>Naipe 5</th>\n",
       "      <th>Valor 5</th>\n",
       "      <th>Poker Hand</th>\n",
       "    </tr>\n",
       "  </thead>\n",
       "  <tbody>\n",
       "    <tr>\n",
       "      <th>0</th>\n",
       "      <td>1</td>\n",
       "      <td>10</td>\n",
       "      <td>1</td>\n",
       "      <td>11</td>\n",
       "      <td>1</td>\n",
       "      <td>13</td>\n",
       "      <td>1</td>\n",
       "      <td>12</td>\n",
       "      <td>1</td>\n",
       "      <td>1</td>\n",
       "      <td>9</td>\n",
       "    </tr>\n",
       "    <tr>\n",
       "      <th>1</th>\n",
       "      <td>2</td>\n",
       "      <td>11</td>\n",
       "      <td>2</td>\n",
       "      <td>13</td>\n",
       "      <td>2</td>\n",
       "      <td>10</td>\n",
       "      <td>2</td>\n",
       "      <td>12</td>\n",
       "      <td>2</td>\n",
       "      <td>1</td>\n",
       "      <td>9</td>\n",
       "    </tr>\n",
       "    <tr>\n",
       "      <th>2</th>\n",
       "      <td>3</td>\n",
       "      <td>12</td>\n",
       "      <td>3</td>\n",
       "      <td>11</td>\n",
       "      <td>3</td>\n",
       "      <td>13</td>\n",
       "      <td>3</td>\n",
       "      <td>10</td>\n",
       "      <td>3</td>\n",
       "      <td>1</td>\n",
       "      <td>9</td>\n",
       "    </tr>\n",
       "    <tr>\n",
       "      <th>3</th>\n",
       "      <td>4</td>\n",
       "      <td>10</td>\n",
       "      <td>4</td>\n",
       "      <td>11</td>\n",
       "      <td>4</td>\n",
       "      <td>1</td>\n",
       "      <td>4</td>\n",
       "      <td>13</td>\n",
       "      <td>4</td>\n",
       "      <td>12</td>\n",
       "      <td>9</td>\n",
       "    </tr>\n",
       "    <tr>\n",
       "      <th>4</th>\n",
       "      <td>4</td>\n",
       "      <td>1</td>\n",
       "      <td>4</td>\n",
       "      <td>13</td>\n",
       "      <td>4</td>\n",
       "      <td>12</td>\n",
       "      <td>4</td>\n",
       "      <td>11</td>\n",
       "      <td>4</td>\n",
       "      <td>10</td>\n",
       "      <td>9</td>\n",
       "    </tr>\n",
       "  </tbody>\n",
       "</table>\n",
       "</div>"
      ],
      "text/plain": [
       "   Naipe 1  Valor 1  Naipe 2  Valor 2  Naipe 3  Valor 3  Naipe 4  Valor 4  \\\n",
       "0        1       10        1       11        1       13        1       12   \n",
       "1        2       11        2       13        2       10        2       12   \n",
       "2        3       12        3       11        3       13        3       10   \n",
       "3        4       10        4       11        4        1        4       13   \n",
       "4        4        1        4       13        4       12        4       11   \n",
       "\n",
       "   Naipe 5  Valor 5  Poker Hand  \n",
       "0        1        1           9  \n",
       "1        2        1           9  \n",
       "2        3        1           9  \n",
       "3        4       12           9  \n",
       "4        4       10           9  "
      ]
     },
     "execution_count": 3,
     "metadata": {},
     "output_type": "execute_result"
    }
   ],
   "source": [
    "ph_train = pd.read_csv('poker-hand-training-true.data', names=nome_col)\n",
    "ph_train.head()"
   ]
  },
  {
   "cell_type": "code",
   "execution_count": 4,
   "id": "c03d0ea7",
   "metadata": {},
   "outputs": [
    {
     "data": {
      "text/plain": [
       "(25010, 11)"
      ]
     },
     "execution_count": 4,
     "metadata": {},
     "output_type": "execute_result"
    }
   ],
   "source": [
    "ph_train.shape"
   ]
  },
  {
   "cell_type": "code",
   "execution_count": 5,
   "id": "03c133a3",
   "metadata": {},
   "outputs": [
    {
     "data": {
      "text/html": [
       "<div>\n",
       "<style scoped>\n",
       "    .dataframe tbody tr th:only-of-type {\n",
       "        vertical-align: middle;\n",
       "    }\n",
       "\n",
       "    .dataframe tbody tr th {\n",
       "        vertical-align: top;\n",
       "    }\n",
       "\n",
       "    .dataframe thead th {\n",
       "        text-align: right;\n",
       "    }\n",
       "</style>\n",
       "<table border=\"1\" class=\"dataframe\">\n",
       "  <thead>\n",
       "    <tr style=\"text-align: right;\">\n",
       "      <th></th>\n",
       "      <th>Naipe 1</th>\n",
       "      <th>Valor 1</th>\n",
       "      <th>Naipe 2</th>\n",
       "      <th>Valor 2</th>\n",
       "      <th>Naipe 3</th>\n",
       "      <th>Valor 3</th>\n",
       "      <th>Naipe 4</th>\n",
       "      <th>Valor 4</th>\n",
       "      <th>Naipe 5</th>\n",
       "      <th>Valor 5</th>\n",
       "      <th>Poker Hand</th>\n",
       "    </tr>\n",
       "  </thead>\n",
       "  <tbody>\n",
       "    <tr>\n",
       "      <th>0</th>\n",
       "      <td>1</td>\n",
       "      <td>1</td>\n",
       "      <td>1</td>\n",
       "      <td>13</td>\n",
       "      <td>2</td>\n",
       "      <td>4</td>\n",
       "      <td>2</td>\n",
       "      <td>3</td>\n",
       "      <td>1</td>\n",
       "      <td>12</td>\n",
       "      <td>0</td>\n",
       "    </tr>\n",
       "    <tr>\n",
       "      <th>1</th>\n",
       "      <td>3</td>\n",
       "      <td>12</td>\n",
       "      <td>3</td>\n",
       "      <td>2</td>\n",
       "      <td>3</td>\n",
       "      <td>11</td>\n",
       "      <td>4</td>\n",
       "      <td>5</td>\n",
       "      <td>2</td>\n",
       "      <td>5</td>\n",
       "      <td>1</td>\n",
       "    </tr>\n",
       "    <tr>\n",
       "      <th>2</th>\n",
       "      <td>1</td>\n",
       "      <td>9</td>\n",
       "      <td>4</td>\n",
       "      <td>6</td>\n",
       "      <td>1</td>\n",
       "      <td>4</td>\n",
       "      <td>3</td>\n",
       "      <td>2</td>\n",
       "      <td>3</td>\n",
       "      <td>9</td>\n",
       "      <td>1</td>\n",
       "    </tr>\n",
       "    <tr>\n",
       "      <th>3</th>\n",
       "      <td>1</td>\n",
       "      <td>4</td>\n",
       "      <td>3</td>\n",
       "      <td>13</td>\n",
       "      <td>2</td>\n",
       "      <td>13</td>\n",
       "      <td>2</td>\n",
       "      <td>1</td>\n",
       "      <td>3</td>\n",
       "      <td>6</td>\n",
       "      <td>1</td>\n",
       "    </tr>\n",
       "    <tr>\n",
       "      <th>4</th>\n",
       "      <td>3</td>\n",
       "      <td>10</td>\n",
       "      <td>2</td>\n",
       "      <td>7</td>\n",
       "      <td>1</td>\n",
       "      <td>2</td>\n",
       "      <td>2</td>\n",
       "      <td>11</td>\n",
       "      <td>4</td>\n",
       "      <td>9</td>\n",
       "      <td>0</td>\n",
       "    </tr>\n",
       "  </tbody>\n",
       "</table>\n",
       "</div>"
      ],
      "text/plain": [
       "   Naipe 1  Valor 1  Naipe 2  Valor 2  Naipe 3  Valor 3  Naipe 4  Valor 4  \\\n",
       "0        1        1        1       13        2        4        2        3   \n",
       "1        3       12        3        2        3       11        4        5   \n",
       "2        1        9        4        6        1        4        3        2   \n",
       "3        1        4        3       13        2       13        2        1   \n",
       "4        3       10        2        7        1        2        2       11   \n",
       "\n",
       "   Naipe 5  Valor 5  Poker Hand  \n",
       "0        1       12           0  \n",
       "1        2        5           1  \n",
       "2        3        9           1  \n",
       "3        3        6           1  \n",
       "4        4        9           0  "
      ]
     },
     "execution_count": 5,
     "metadata": {},
     "output_type": "execute_result"
    }
   ],
   "source": [
    "ph_test = pd.read_csv('poker-hand-testing.data', names=nome_col)\n",
    "ph_test.head()"
   ]
  },
  {
   "cell_type": "code",
   "execution_count": 6,
   "id": "9dd9da15",
   "metadata": {
    "scrolled": true
   },
   "outputs": [
    {
     "data": {
      "text/plain": [
       "(1000000, 11)"
      ]
     },
     "execution_count": 6,
     "metadata": {},
     "output_type": "execute_result"
    }
   ],
   "source": [
    "ph_test.shape"
   ]
  },
  {
   "cell_type": "markdown",
   "id": "c0533cb5",
   "metadata": {},
   "source": [
    "Para execução mais rápida do código, escolhi apenas 25000 linhas para teste:"
   ]
  },
  {
   "cell_type": "code",
   "execution_count": 7,
   "id": "1b2b190c",
   "metadata": {},
   "outputs": [],
   "source": [
    "X_train = ph_train.drop('Poker Hand',axis=1)\n",
    "y_train = ph_train['Poker Hand']\n",
    "X_test = ph_test[:25000].drop('Poker Hand',axis=1)\n",
    "y_test = ph_test[:25000]['Poker Hand']"
   ]
  },
  {
   "cell_type": "markdown",
   "id": "e760cc02",
   "metadata": {},
   "source": [
    "### Testando KNN:"
   ]
  },
  {
   "cell_type": "code",
   "execution_count": 8,
   "id": "7dfc29ee",
   "metadata": {},
   "outputs": [
    {
     "name": "stdout",
     "output_type": "stream",
     "text": [
      "Valor de vizinhos K: 1\n",
      "[[7545 4521  371   92   21   36    4    0    0    0]\n",
      " [4493 5004  614  341   48   13   16    4    0    0]\n",
      " [ 371  593  165   57   11    0    8    1    0    0]\n",
      " [ 105  268   36   57    5    0    5    2    0    0]\n",
      " [  12   56   12    4   10    0    1    0    0    0]\n",
      " [  37   16    1    1    0    2    0    0    0    0]\n",
      " [   2   14    4    2    1    0    1    1    0    0]\n",
      " [   1    5    0    0    0    0    0    0    0    0]\n",
      " [   0    3    1    0    1    0    0    0    0    0]\n",
      " [   2    2    0    0    1    0    0    0    0    0]]\n",
      "              precision    recall  f1-score   support\n",
      "\n",
      "           0      0.599     0.600     0.600     12568\n",
      "           1      0.475     0.477     0.476     10482\n",
      "           2      0.137     0.137     0.137      1204\n",
      "           3      0.119     0.103     0.110       554\n",
      "           4      0.105     0.102     0.104        98\n",
      "           5      0.035     0.039     0.037        51\n",
      "           6      0.040     0.029     0.033        35\n",
      "           7      0.000     0.000     1.000         8\n",
      "           8      0.000     1.000     0.000         0\n",
      "           9      0.000     1.000     0.000         0\n",
      "\n",
      "    accuracy                          0.511     25000\n",
      "   macro avg      0.151     0.349     0.250     25000\n",
      "weighted avg      0.510     0.511     0.511     25000\n",
      "\n",
      "Valor de vizinhos K: 2\n",
      "[[10278  6899   617   196    37    47     6     0]\n",
      " [ 2258  3427   532   331    55     4    22     6]\n",
      " [   30   121    50    21     3     0     6     1]\n",
      " [    2    34     4     6     2     0     1     1]\n",
      " [    0     1     1     0     1     0     0     0]\n",
      " [    0     0     0     0     0     0     0     0]\n",
      " [    0     0     0     0     0     0     0     0]\n",
      " [    0     0     0     0     0     0     0     0]]\n",
      "              precision    recall  f1-score   support\n",
      "\n",
      "           0      0.568     0.818     0.671     12568\n",
      "           1      0.517     0.327     0.400     10482\n",
      "           2      0.216     0.042     0.070      1204\n",
      "           3      0.120     0.011     0.020       554\n",
      "           4      0.333     0.010     0.020        98\n",
      "           5      1.000     0.000     0.000        51\n",
      "           6      1.000     0.000     0.000        35\n",
      "           7      1.000     0.000     0.000         8\n",
      "\n",
      "    accuracy                          0.550     25000\n",
      "   macro avg      0.594     0.151     0.148     25000\n",
      "weighted avg      0.520     0.550     0.509     25000\n",
      "\n",
      "Valor de vizinhos K: 3\n",
      "[[8569 5337  487  148   24   42    5    0]\n",
      " [3937 4949  638  366   69    9   23    7]\n",
      " [  56  148   67   23    3    0    4    1]\n",
      " [   6   45   11   17    2    0    2    0]\n",
      " [   0    3    1    0    0    0    0    0]\n",
      " [   0    0    0    0    0    0    0    0]\n",
      " [   0    0    0    0    0    0    1    0]\n",
      " [   0    0    0    0    0    0    0    0]]\n",
      "              precision    recall  f1-score   support\n",
      "\n",
      "           0      0.586     0.682     0.631     12568\n",
      "           1      0.495     0.472     0.483     10482\n",
      "           2      0.222     0.056     0.089      1204\n",
      "           3      0.205     0.031     0.053       554\n",
      "           4      0.000     0.000     1.000        98\n",
      "           5      1.000     0.000     0.000        51\n",
      "           6      1.000     0.029     0.056        35\n",
      "           7      1.000     0.000     0.000         8\n",
      "\n",
      "    accuracy                          0.544     25000\n",
      "   macro avg      0.564     0.159     0.289     25000\n",
      "weighted avg      0.521     0.544     0.529     25000\n",
      "\n",
      "Valor de vizinhos K: 4\n",
      "[[9802 6169  543  159   25   46    4    0]\n",
      " [2706 4110  594  357   67    3   23    4]\n",
      " [  51  155   56   21    5    2    6    2]\n",
      " [   9   44   10   17    1    0    1    2]\n",
      " [   0    4    1    0    0    0    0    0]\n",
      " [   0    0    0    0    0    0    0    0]\n",
      " [   0    0    0    0    0    0    1    0]\n",
      " [   0    0    0    0    0    0    0    0]]\n",
      "              precision    recall  f1-score   support\n",
      "\n",
      "           0      0.585     0.780     0.669     12568\n",
      "           1      0.523     0.392     0.448     10482\n",
      "           2      0.188     0.047     0.075      1204\n",
      "           3      0.202     0.031     0.053       554\n",
      "           4      0.000     0.000     1.000        98\n",
      "           5      1.000     0.000     0.000        51\n",
      "           6      1.000     0.029     0.056        35\n",
      "           7      1.000     0.000     0.000         8\n",
      "\n",
      "    accuracy                          0.559     25000\n",
      "   macro avg      0.562     0.160     0.288     25000\n",
      "weighted avg      0.531     0.559     0.533     25000\n",
      "\n",
      "Valor de vizinhos K: 5\n",
      "[[8882 5425  507  139   19   42    3    0]\n",
      " [3667 4942  646  385   73    9   27    7]\n",
      " [  16   88   42   23    6    0    4    1]\n",
      " [   3   25    8    7    0    0    1    0]\n",
      " [   0    2    1    0    0    0    0    0]\n",
      " [   0    0    0    0    0    0    0    0]\n",
      " [   0    0    0    0    0    0    0    0]\n",
      " [   0    0    0    0    0    0    0    0]]\n",
      "              precision    recall  f1-score   support\n",
      "\n",
      "           0      0.591     0.707     0.644     12568\n",
      "           1      0.507     0.471     0.488     10482\n",
      "           2      0.233     0.035     0.061      1204\n",
      "           3      0.159     0.013     0.023       554\n",
      "           4      0.000     0.000     1.000        98\n",
      "           5      1.000     0.000     0.000        51\n",
      "           6      1.000     0.000     0.000        35\n",
      "           7      1.000     0.000     0.000         8\n",
      "\n",
      "    accuracy                          0.555     25000\n",
      "   macro avg      0.561     0.153     0.277     25000\n",
      "weighted avg      0.528     0.555     0.536     25000\n",
      "\n",
      "Valor de vizinhos K: 6\n",
      "[[9681 5974  535  138   19   45    3    0]\n",
      " [2867 4423  625  400   76    6   27    7]\n",
      " [  19   70   37   13    3    0    4    1]\n",
      " [   1   14    5    3    0    0    1    0]\n",
      " [   0    1    2    0    0    0    0    0]\n",
      " [   0    0    0    0    0    0    0    0]\n",
      " [   0    0    0    0    0    0    0    0]\n",
      " [   0    0    0    0    0    0    0    0]]\n",
      "              precision    recall  f1-score   support\n",
      "\n",
      "           0      0.590     0.770     0.669     12568\n",
      "           1      0.525     0.422     0.468     10482\n",
      "           2      0.252     0.031     0.055      1204\n",
      "           3      0.125     0.005     0.010       554\n",
      "           4      0.000     0.000     1.000        98\n",
      "           5      1.000     0.000     0.000        51\n",
      "           6      1.000     0.000     0.000        35\n",
      "           7      1.000     0.000     0.000         8\n",
      "\n",
      "    accuracy                          0.566     25000\n",
      "   macro avg      0.561     0.154     0.275     25000\n",
      "weighted avg      0.535     0.566     0.539     25000\n",
      "\n",
      "Valor de vizinhos K: 7\n",
      "[[9094 5472  490  131   12   44    2    0]\n",
      " [3456 4936  682  405   83    7   27    7]\n",
      " [  16   58   27   12    2    0    6    1]\n",
      " [   2   14    4    6    1    0    0    0]\n",
      " [   0    2    1    0    0    0    0    0]\n",
      " [   0    0    0    0    0    0    0    0]\n",
      " [   0    0    0    0    0    0    0    0]\n",
      " [   0    0    0    0    0    0    0    0]]\n",
      "              precision    recall  f1-score   support\n",
      "\n",
      "           0      0.597     0.724     0.654     12568\n",
      "           1      0.514     0.471     0.492     10482\n",
      "           2      0.221     0.022     0.041      1204\n",
      "           3      0.222     0.011     0.021       554\n",
      "           4      0.000     0.000     1.000        98\n",
      "           5      1.000     0.000     0.000        51\n",
      "           6      1.000     0.000     0.000        35\n",
      "           7      1.000     0.000     0.000         8\n",
      "\n",
      "    accuracy                          0.563     25000\n",
      "   macro avg      0.569     0.153     0.276     25000\n",
      "weighted avg      0.535     0.563     0.541     25000\n",
      "\n",
      "Valor de vizinhos K: 8\n",
      "[[9662 5841  502  140   13   47    4    0]\n",
      " [2900 4584  669  397   82    4   23    7]\n",
      " [   5   48   26   12    2    0    8    1]\n",
      " [   1    9    6    5    1    0    0    0]\n",
      " [   0    0    1    0    0    0    0    0]\n",
      " [   0    0    0    0    0    0    0    0]\n",
      " [   0    0    0    0    0    0    0    0]\n",
      " [   0    0    0    0    0    0    0    0]]\n",
      "              precision    recall  f1-score   support\n",
      "\n",
      "           0      0.596     0.769     0.672     12568\n",
      "           1      0.529     0.437     0.479     10482\n",
      "           2      0.255     0.022     0.040      1204\n",
      "           3      0.227     0.009     0.017       554\n",
      "           4      0.000     0.000     1.000        98\n",
      "           5      1.000     0.000     0.000        51\n",
      "           6      1.000     0.000     0.000        35\n",
      "           7      1.000     0.000     0.000         8\n",
      "\n",
      "    accuracy                          0.571     25000\n",
      "   macro avg      0.576     0.155     0.276     25000\n",
      "weighted avg      0.543     0.571     0.545     25000\n",
      "\n"
     ]
    },
    {
     "name": "stdout",
     "output_type": "stream",
     "text": [
      "Valor de vizinhos K: 9\n",
      "[[9266 5511  476  126    9   44    3    0]\n",
      " [3296 4918  702  414   89    7   27    7]\n",
      " [   4   44   21   12    0    0    3    1]\n",
      " [   2    9    4    2    0    0    2    0]\n",
      " [   0    0    1    0    0    0    0    0]\n",
      " [   0    0    0    0    0    0    0    0]\n",
      " [   0    0    0    0    0    0    0    0]\n",
      " [   0    0    0    0    0    0    0    0]]\n",
      "              precision    recall  f1-score   support\n",
      "\n",
      "           0      0.600     0.737     0.662     12568\n",
      "           1      0.520     0.469     0.493     10482\n",
      "           2      0.247     0.017     0.033      1204\n",
      "           3      0.105     0.004     0.007       554\n",
      "           4      0.000     0.000     1.000        98\n",
      "           5      1.000     0.000     0.000        51\n",
      "           6      1.000     0.000     0.000        35\n",
      "           7      1.000     0.000     0.000         8\n",
      "\n",
      "    accuracy                          0.568     25000\n",
      "   macro avg      0.559     0.153     0.274     25000\n",
      "weighted avg      0.538     0.568     0.545     25000\n",
      "\n",
      "Valor de vizinhos K: 10\n",
      "[[9603 5811  481  128    9   46    2    0]\n",
      " [2959 4631  696  415   87    5   28    7]\n",
      " [   5   37   23    8    2    0    4    1]\n",
      " [   1    3    3    3    0    0    1    0]\n",
      " [   0    0    1    0    0    0    0    0]\n",
      " [   0    0    0    0    0    0    0    0]\n",
      " [   0    0    0    0    0    0    0    0]\n",
      " [   0    0    0    0    0    0    0    0]]\n",
      "              precision    recall  f1-score   support\n",
      "\n",
      "           0      0.597     0.764     0.670     12568\n",
      "           1      0.525     0.442     0.480     10482\n",
      "           2      0.287     0.019     0.036      1204\n",
      "           3      0.273     0.005     0.011       554\n",
      "           4      0.000     0.000     1.000        98\n",
      "           5      1.000     0.000     0.000        51\n",
      "           6      1.000     0.000     0.000        35\n",
      "           7      1.000     0.000     0.000         8\n",
      "\n",
      "    accuracy                          0.570     25000\n",
      "   macro avg      0.585     0.154     0.275     25000\n",
      "weighted avg      0.544     0.570     0.544     25000\n",
      "\n"
     ]
    }
   ],
   "source": [
    "Accuracy = []\n",
    "Scores = []\n",
    "\n",
    "#Testando no intervalo de K entre 1 e 10:\n",
    "for k in range(1,11):\n",
    "    knn = neighbors.KNeighborsClassifier(n_neighbors=k)\n",
    "    pred = knn.fit(X_train, y_train).predict(X_test)\n",
    "    \n",
    "    print('Valor de vizinhos K:',k)\n",
    "    print(confusion_matrix(y_test, pred).T)\n",
    "    print(classification_report(y_test, pred, digits=3,zero_division=1.0))\n",
    "    accuracy = knn.score(X_test, y_test)\n",
    "    Accuracy.append((k, accuracy))\n"
   ]
  },
  {
   "cell_type": "code",
   "execution_count": 9,
   "id": "bb562c0b",
   "metadata": {},
   "outputs": [
    {
     "data": {
      "text/plain": [
       "(10, 0.5704)"
      ]
     },
     "execution_count": 9,
     "metadata": {},
     "output_type": "execute_result"
    }
   ],
   "source": [
    "max(Accuracy)"
   ]
  },
  {
   "cell_type": "code",
   "execution_count": 10,
   "id": "1bda1084",
   "metadata": {},
   "outputs": [],
   "source": [
    "Scores.append(('Knn', max(Accuracy)[1]))"
   ]
  },
  {
   "cell_type": "markdown",
   "id": "ce636193",
   "metadata": {},
   "source": [
    "### Testando Regressão Logística:"
   ]
  },
  {
   "cell_type": "code",
   "execution_count": 11,
   "id": "8d0b4a52",
   "metadata": {},
   "outputs": [],
   "source": [
    "logreg = LogisticRegression(max_iter=25000)\n",
    "\n",
    "logreg.fit(X_train, y_train)\n",
    "y_pred = logreg.predict(X_test)"
   ]
  },
  {
   "cell_type": "code",
   "execution_count": 12,
   "id": "922253c3",
   "metadata": {
    "scrolled": true
   },
   "outputs": [
    {
     "name": "stdout",
     "output_type": "stream",
     "text": [
      "              precision    recall  f1-score   support\n",
      "\n",
      "           0      0.503     1.000     0.669     12568\n",
      "           1      1.000     0.000     0.000     10482\n",
      "           2      1.000     0.000     0.000      1204\n",
      "           3      1.000     0.000     0.000       554\n",
      "           4      1.000     0.000     0.000        98\n",
      "           5      1.000     0.000     0.000        51\n",
      "           6      1.000     0.000     0.000        35\n",
      "           7      1.000     0.000     0.000         8\n",
      "\n",
      "    accuracy                          0.503     25000\n",
      "   macro avg      0.938     0.125     0.084     25000\n",
      "weighted avg      0.750     0.503     0.336     25000\n",
      "\n"
     ]
    },
    {
     "data": {
      "text/plain": [
       "0.50272"
      ]
     },
     "execution_count": 12,
     "metadata": {},
     "output_type": "execute_result"
    }
   ],
   "source": [
    "print(classification_report(y_test, y_pred, digits=3,zero_division=1.0))\n",
    "logreg.score(X_test, y_test)"
   ]
  },
  {
   "cell_type": "code",
   "execution_count": 13,
   "id": "1ea91676",
   "metadata": {},
   "outputs": [],
   "source": [
    "Scores.append(('LogReg',logreg.score(X_test, y_test)))"
   ]
  },
  {
   "cell_type": "markdown",
   "id": "2fd52d3f",
   "metadata": {},
   "source": [
    "### Análise Discriminante Linear (LDA):"
   ]
  },
  {
   "cell_type": "code",
   "execution_count": 14,
   "id": "a34c588b",
   "metadata": {},
   "outputs": [],
   "source": [
    "lda = LinearDiscriminantAnalysis()\n",
    "model = lda.fit(X_train, y_train)"
   ]
  },
  {
   "cell_type": "code",
   "execution_count": 15,
   "id": "d23311b6",
   "metadata": {},
   "outputs": [
    {
     "name": "stdout",
     "output_type": "stream",
     "text": [
      "(array([0], dtype=int64), array([25000], dtype=int64))\n"
     ]
    }
   ],
   "source": [
    "pred=model.predict(X_test)\n",
    "print(np.unique(pred, return_counts=True))"
   ]
  },
  {
   "cell_type": "code",
   "execution_count": 16,
   "id": "ff2a6ef1",
   "metadata": {},
   "outputs": [
    {
     "name": "stdout",
     "output_type": "stream",
     "text": [
      "[[12568 10482  1204   554    98    51    35     8]\n",
      " [    0     0     0     0     0     0     0     0]\n",
      " [    0     0     0     0     0     0     0     0]\n",
      " [    0     0     0     0     0     0     0     0]\n",
      " [    0     0     0     0     0     0     0     0]\n",
      " [    0     0     0     0     0     0     0     0]\n",
      " [    0     0     0     0     0     0     0     0]\n",
      " [    0     0     0     0     0     0     0     0]]\n",
      "              precision    recall  f1-score   support\n",
      "\n",
      "           0      0.503     1.000     0.669     12568\n",
      "           1      1.000     0.000     0.000     10482\n",
      "           2      1.000     0.000     0.000      1204\n",
      "           3      1.000     0.000     0.000       554\n",
      "           4      1.000     0.000     0.000        98\n",
      "           5      1.000     0.000     0.000        51\n",
      "           6      1.000     0.000     0.000        35\n",
      "           7      1.000     0.000     0.000         8\n",
      "\n",
      "    accuracy                          0.503     25000\n",
      "   macro avg      0.938     0.125     0.084     25000\n",
      "weighted avg      0.750     0.503     0.336     25000\n",
      "\n"
     ]
    }
   ],
   "source": [
    "print(confusion_matrix(pred, y_test))\n",
    "print(classification_report(y_test, pred, digits=3,zero_division=1.0))"
   ]
  },
  {
   "cell_type": "code",
   "execution_count": 17,
   "id": "c3d65113",
   "metadata": {},
   "outputs": [],
   "source": [
    "Scores.append(('LDA',lda.score(X_test, y_test)))"
   ]
  },
  {
   "cell_type": "markdown",
   "id": "d2189e3f",
   "metadata": {},
   "source": [
    "### Análise Discriminante Quadrática (QDA):"
   ]
  },
  {
   "cell_type": "code",
   "execution_count": 18,
   "id": "cd0fa47e",
   "metadata": {},
   "outputs": [
    {
     "name": "stderr",
     "output_type": "stream",
     "text": [
      "C:\\ProgramData\\anaconda3\\Lib\\site-packages\\sklearn\\discriminant_analysis.py:935: UserWarning: Variables are collinear\n",
      "  warnings.warn(\"Variables are collinear\")\n"
     ]
    }
   ],
   "source": [
    "qda = QuadraticDiscriminantAnalysis()\n",
    "model2 = qda.fit(X_train, y_train)"
   ]
  },
  {
   "cell_type": "code",
   "execution_count": 19,
   "id": "e19f236e",
   "metadata": {},
   "outputs": [
    {
     "name": "stdout",
     "output_type": "stream",
     "text": [
      "(array([0, 1, 3, 4], dtype=int64), array([18431,  6565,     2,     2], dtype=int64))\n",
      "[[10278  7128   679   251    34    48    12     1]\n",
      " [ 2290  3353   525   302    64     3    22     6]\n",
      " [    0     0     0     0     0     0     0     0]\n",
      " [    0     1     0     0     0     0     0     1]\n",
      " [    0     0     0     1     0     0     1     0]\n",
      " [    0     0     0     0     0     0     0     0]\n",
      " [    0     0     0     0     0     0     0     0]\n",
      " [    0     0     0     0     0     0     0     0]]\n",
      "              precision    recall  f1-score   support\n",
      "\n",
      "           0      0.558     0.818     0.663     12568\n",
      "           1      0.511     0.320     0.393     10482\n",
      "           2      1.000     0.000     0.000      1204\n",
      "           3      0.000     0.000     1.000       554\n",
      "           4      0.000     0.000     1.000        98\n",
      "           5      1.000     0.000     0.000        51\n",
      "           6      1.000     0.000     0.000        35\n",
      "           7      1.000     0.000     0.000         8\n",
      "\n",
      "    accuracy                          0.545     25000\n",
      "   macro avg      0.634     0.142     0.382     25000\n",
      "weighted avg      0.546     0.545     0.524     25000\n",
      "\n"
     ]
    }
   ],
   "source": [
    "pred2=model2.predict(X_test)\n",
    "print(np.unique(pred2, return_counts=True))\n",
    "print(confusion_matrix(pred2, y_test))\n",
    "print(classification_report(y_test, pred2, digits=3,zero_division=1.0))"
   ]
  },
  {
   "cell_type": "code",
   "execution_count": 20,
   "id": "2b70611c",
   "metadata": {},
   "outputs": [],
   "source": [
    "Scores.append(('QDA',qda.score(X_test, y_test)))"
   ]
  },
  {
   "cell_type": "code",
   "execution_count": 21,
   "id": "456c5389",
   "metadata": {},
   "outputs": [
    {
     "data": {
      "text/plain": [
       "[('Knn', 0.5704), ('LogReg', 0.50272), ('LDA', 0.50272), ('QDA', 0.54524)]"
      ]
     },
     "execution_count": 21,
     "metadata": {},
     "output_type": "execute_result"
    }
   ],
   "source": [
    "Scores"
   ]
  },
  {
   "cell_type": "markdown",
   "id": "8b7e086f",
   "metadata": {},
   "source": [
    "O Método KNN teve a melhor valor de acurácia, possívelmente por causa do teste de variação de parâmetros. Talvez seja possível chegar em resultados melhores nos outros métodos se variarmos os parâmetros também."
   ]
  },
  {
   "cell_type": "code",
   "execution_count": 22,
   "id": "fab1cc32",
   "metadata": {},
   "outputs": [
    {
     "data": {
      "text/plain": [
       "('Knn', 0.5704)"
      ]
     },
     "execution_count": 22,
     "metadata": {},
     "output_type": "execute_result"
    }
   ],
   "source": [
    "max(Scores, key=lambda x: x[1])"
   ]
  },
  {
   "cell_type": "code",
   "execution_count": null,
   "id": "a3a1136c",
   "metadata": {},
   "outputs": [],
   "source": []
  }
 ],
 "metadata": {
  "kernelspec": {
   "display_name": "Python 3 (ipykernel)",
   "language": "python",
   "name": "python3"
  },
  "language_info": {
   "codemirror_mode": {
    "name": "ipython",
    "version": 3
   },
   "file_extension": ".py",
   "mimetype": "text/x-python",
   "name": "python",
   "nbconvert_exporter": "python",
   "pygments_lexer": "ipython3",
   "version": "3.11.5"
  }
 },
 "nbformat": 4,
 "nbformat_minor": 5
}
